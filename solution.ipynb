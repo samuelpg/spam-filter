{
 "cells": [
  {
   "cell_type": "markdown",
   "metadata": {},
   "source": [
    "## Spam Filter Classifier."
   ]
  },
  {
   "cell_type": "code",
   "execution_count": 33,
   "metadata": {},
   "outputs": [
    {
     "name": "stdout",
     "output_type": "stream",
     "text": [
      "['ham' 'ham' 'ham' ... 'ham' 'ham' 'ham']\n"
     ]
    }
   ],
   "source": [
    "import pandas as pd\n",
    "import numpy as np\n",
    "import string\n",
    "\n",
    "from sklearn.feature_extraction.text import CountVectorizer\n",
    "from sklearn.naive_bayes import MultinomialNB\n",
    "\n",
    "\n",
    "# Read datasets\n",
    "test_data = pd.read_csv('TestDataset.csv', names=['text'])\n",
    "train_data_1 = pd.read_csv('TrainDataset1.csv', names=['tag','text'])\n",
    "train_data_2 = pd.read_csv('TrainDataset2.csv', names=['tag','text'])\n",
    "train_data_3 = pd.read_csv('TrainDataset3.txt', sep=\"\\t\", names=['tag','text'])\n",
    "\n",
    "text = train_data_1['text'].tolist() + train_data_2['text'].tolist() + train_data_3['text'].tolist()\n",
    "tags = train_data_1['tag'].tolist() + train_data_2['tag'].tolist() + train_data_3['tag'].tolist()\n",
    "\n",
    "test_text = test_data['text']\n",
    "\n",
    "# generate the clean list\n",
    "translator = str.maketrans('', '', string.punctuation)\n",
    "text = [line.translate(translator).lower() for line in text]\n",
    "test_text = [line.translate(translator).lower() for line in test_text]\n",
    "# count the words\n",
    "vectorizer = CountVectorizer()\n",
    "word_count = vectorizer.fit_transform(text)\n",
    "\n",
    "count = np.array(word_count.toarray())\n",
    "\n",
    "# for word, count in zip(vectorizer.get_feature_names(), np.sum(count, axis=0)):\n",
    "#     print(word, count)\n",
    "\n",
    "# train the classifier\n",
    "classifier = MultinomialNB()\n",
    "classifier.fit(word_count, tags)\n",
    "\n",
    "test = vectorizer.transform(test_text)\n",
    "prediction = classifier.predict(test)\n",
    "\n",
    "print(prediction)"
   ]
  },
  {
   "cell_type": "code",
   "execution_count": null,
   "metadata": {},
   "outputs": [],
   "source": []
  }
 ],
 "metadata": {
  "kernelspec": {
   "display_name": "Python 3",
   "language": "python",
   "name": "python3"
  },
  "language_info": {
   "codemirror_mode": {
    "name": "ipython",
    "version": 3
   },
   "file_extension": ".py",
   "mimetype": "text/x-python",
   "name": "python",
   "nbconvert_exporter": "python",
   "pygments_lexer": "ipython3",
   "version": "3.5.2"
  }
 },
 "nbformat": 4,
 "nbformat_minor": 2
}

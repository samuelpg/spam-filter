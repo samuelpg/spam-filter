{
 "cells": [
  {
   "cell_type": "markdown",
   "metadata": {},
   "source": [
    "# Build a spam classifier using Naive Bayes"
   ]
  },
  {
   "cell_type": "markdown",
   "metadata": {},
   "source": [
    "## Project Description: \n",
    "- There are three datasets for training: TrainDataset1.csv, TrainDataset2.csv and TrainDataset3.txt. Each dataset contains short messages with the labels (ham or spam). \n",
    "- Analyse, clean and visualise these datasets.\n",
    "- Combine them into one big data set for the training\n",
    "- Use this dataset in order to build your own Naive Bayes classifier. (You can either use existing Naive Bayes from sklearn or build your own one)\n",
    "- Verify your Classifier using new messages (create your own messages or use the messages from the TestDataset.csv dataset).\n",
    "\n",
    "## Project Duration: 2 weeks\n",
    "## Project Deliverables:\n",
    "1. End of the first week do Data preprocessing: \n",
    "    - Load the dataset using pandas, \n",
    "    - Analysis it for this you will need to process the text, namely remove punctuation and stopwords, and then create a list of clean text words. (Research how to do this) \n",
    "    - Visualise the results\n",
    "    - Prepare the pre-processed data for the usage by Naive Bayes Classifier\n",
    "2. End of the second week:\n",
    "    - Train the classifier,\n",
    "    - Validate it, build confusion matrix, analyse its results\n",
    "    - Apply it to new test messages,\n",
    "    - Try to cheat the classifier by adding \"good words\" to the end of test message."
   ]
  },
  {
   "cell_type": "markdown",
   "metadata": {},
   "source": [
    "You can use the following link can be used as guidance for implementation:\n",
    "https://towardsdatascience.com/spam-filtering-using-naive-bayes-98a341224038"
   ]
  },
  {
   "cell_type": "code",
   "execution_count": 2,
   "metadata": {},
   "outputs": [
    {
     "data": {
      "text/plain": [
       "'0.24.2'"
      ]
     },
     "execution_count": 2,
     "metadata": {},
     "output_type": "execute_result"
    }
   ],
   "source": [
    "import numpy as np\n",
    "import pandas as pd\n",
    "\n",
    "from sklearn.feature_extraction.text import CountVectorizer\n",
    "from sklearn.naive_bayes import MultinomialNB\n",
    "\n",
    "pd.__version__"
   ]
  },
  {
   "cell_type": "code",
   "execution_count": 64,
   "metadata": {},
   "outputs": [
    {
     "name": "stdout",
     "output_type": "stream",
     "text": [
      "Hope you are having a good week. Just checking in\n",
      "  (0, 3915)\t1\n",
      "  (0, 8621)\t1\n",
      "  (0, 1192)\t1\n",
      "  (0, 3772)\t1\n",
      "  (0, 3570)\t1\n",
      "  (0, 8325)\t1\n",
      "  (0, 4347)\t1\n",
      "  (0, 1980)\t1\n",
      "  (0, 4086)\t1\n",
      "hope\n",
      "you\n",
      "are\n",
      "having\n",
      "good\n",
      "week\n",
      "just\n",
      "checking\n",
      "in\n"
     ]
    }
   ],
   "source": [
    "train_1 = pd.read_csv('TrainDataset1.csv')\n",
    "train_2 = pd.read_csv('TrainDataset2.csv')\n",
    "train_3 = pd.read_csv('TrainDataset3.txt', sep=\"\\t\", header=None)\n",
    "\n",
    "test_set = pd.read_csv('TestDataset.csv')\n",
    "\n",
    "train_2.columns = ['type', 'text']\n",
    "train_3.columns = ['type', 'text']\n",
    "test_set.columns = [ 'text']\n",
    "\n",
    "pieces = [train_1, train_2, train_3]\n",
    "train_set = train_1#pd.concat(pieces)\n",
    "\n",
    "cv = CountVectorizer()\n",
    "#Learn the vocabulary dictionary and return term-document matrix.\n",
    "counts = cv.fit_transform(train_set.text.values)\n",
    "\n",
    "print(train_1.text[0])\n",
    "print(counts[0])\n",
    "\n",
    "vocab = sorted(list(cv.vocabulary_.keys()))\n",
    "print(vocab[3915])\n",
    "print(vocab[8621])\n",
    "print(vocab[1192])\n",
    "print(vocab[3772])\n",
    "print(vocab[3570])\n",
    "print(vocab[8325])\n",
    "print(vocab[4347])\n",
    "print(vocab[1980])\n",
    "print(vocab[4086])\n"
   ]
  },
  {
   "cell_type": "code",
   "execution_count": 68,
   "metadata": {},
   "outputs": [
    {
     "name": "stdout",
     "output_type": "stream",
     "text": [
      "['ham' 'ham' 'ham' ... 'ham' 'ham' 'ham']\n"
     ]
    }
   ],
   "source": [
    "classifier = MultinomialNB()\n",
    "targets = train_set.type.values\n",
    "classifier.fit(counts, targets)\n",
    "\n",
    "test_count = cv.transform(test_set.text)\n",
    "predictions = classifier.predict(test_count)\n",
    "print(predictions)"
   ]
  },
  {
   "cell_type": "code",
   "execution_count": null,
   "metadata": {},
   "outputs": [],
   "source": []
  }
 ],
 "metadata": {
  "kernelspec": {
   "display_name": "Python 3",
   "language": "python",
   "name": "python3"
  },
  "language_info": {
   "codemirror_mode": {
    "name": "ipython",
    "version": 3
   },
   "file_extension": ".py",
   "mimetype": "text/x-python",
   "name": "python",
   "nbconvert_exporter": "python",
   "pygments_lexer": "ipython3",
   "version": "3.5.2"
  }
 },
 "nbformat": 4,
 "nbformat_minor": 2
}

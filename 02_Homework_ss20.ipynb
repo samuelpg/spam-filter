{
 "cells": [
  {
   "cell_type": "markdown",
   "metadata": {},
   "source": [
    "# Build a spam classifier using Naive Bayes"
   ]
  },
  {
   "cell_type": "markdown",
   "metadata": {},
   "source": [
    "## Project Description: \n",
    "- There are three datasets for training: TrainDataset1.csv, TrainDataset2.csv and TrainDataset3.txt. Each dataset contains short messages with the labels (ham or spam). \n",
    "- Analyse, clean and visualise these datasets.\n",
    "- Combine them into one big data set for the training\n",
    "- Use this dataset in order to build your own Naive Bayes classifier. (You can either use existing Naive Bayes from sklearn or build your own one)\n",
    "- Verify your Classifier using new messages (create your own messages or use the messages from the TestDataset.csv dataset).\n",
    "\n",
    "## Project Duration: 2 weeks\n",
    "## Project Deliverables:\n",
    "1. End of the first week do Data preprocessing: \n",
    "    - Load the dataset using pandas, \n",
    "    - Analysis it for this you will need to process the text, namely remove punctuation and stopwords, and then create a list of clean text words. (Research how to do this) \n",
    "    - Visualise the results\n",
    "    - Prepare the pre-processed data for the usage by Naive Bayes Classifier\n",
    "2. End of the second week:\n",
    "    - Train the classifier,\n",
    "    - Validate it, build confusion matrix, analyse its results\n",
    "    - Apply it to new test messages,\n",
    "    - Try to cheat the classifier by adding \"good words\" to the end of test message."
   ]
  },
  {
   "cell_type": "markdown",
   "metadata": {},
   "source": [
    "You can use the following link can be used as guidance for implementation:\n",
    "https://towardsdatascience.com/spam-filtering-using-naive-bayes-98a341224038"
   ]
  },
  {
   "cell_type": "code",
   "execution_count": null,
   "metadata": {},
   "outputs": [],
   "source": []
  }
 ],
 "metadata": {
  "kernelspec": {
   "display_name": "Python 3",
   "language": "python",
   "name": "python3"
  },
  "language_info": {
   "codemirror_mode": {
    "name": "ipython",
    "version": 3
   },
   "file_extension": ".py",
   "mimetype": "text/x-python",
   "name": "python",
   "nbconvert_exporter": "python",
   "pygments_lexer": "ipython3",
   "version": "3.5.2"
  }
 },
 "nbformat": 4,
 "nbformat_minor": 2
}

{
 "cells": [
  {
   "cell_type": "markdown",
   "metadata": {},
   "source": [
    "# Build a spam classifier using Naive Bayes"
   ]
  },
  {
   "cell_type": "markdown",
   "metadata": {},
   "source": [
    "## Project Description: \n",
    "- There are three datasets for training: TrainDataset1.csv, TrainDataset2.csv and TrainDataset3.txt. Each dataset contains short messages with the labels (ham or spam). \n",
    "- Analyse, clean and visualise these datasets.\n",
    "- Combine them into one big data set for the training\n",
    "- Use this dataset in order to build your own Naive Bayes classifier. (You can either use existing Naive Bayes from sklearn or build your own one)\n",
    "- Verify your Classifier using new messages (create your own messages or use the messages from the TestDataset.csv dataset).\n",
    "\n",
    "## Project Duration: 2 weeks\n",
    "## Project Deliverables:\n",
    "1. End of the first week do Data preprocessing: \n",
    "    - Load the dataset using pandas, \n",
    "    - Analysis it for this you will need to process the text, namely remove punctuation and stopwords, and then create a list of clean text words. (Research how to do this) \n",
    "    - Visualise the results\n",
    "    - Prepare the pre-processed data for the usage by Naive Bayes Classifier\n",
    "2. End of the second week:\n",
    "    - Train the classifier,\n",
    "    - Validate it, build confusion matrix, analyse its results\n",
    "    - Apply it to new test messages,\n",
    "    - Try to cheat the classifier by adding \"good words\" to the end of test message."
   ]
  },
  {
   "cell_type": "markdown",
   "metadata": {},
   "source": [
    "You can use the following link can be used as guidance for implementation:\n",
    "https://towardsdatascience.com/spam-filtering-using-naive-bayes-98a341224038"
   ]
  },
  {
   "cell_type": "code",
   "execution_count": 5,
   "metadata": {},
   "outputs": [
    {
     "data": {
      "text/plain": [
       "'0.24.2'"
      ]
     },
     "execution_count": 5,
     "metadata": {},
     "output_type": "execute_result"
    }
   ],
   "source": [
    "import numpy as np\n",
    "import pandas as pd\n",
    "\n",
    "from sklearn.feature_extraction.text import CountVectorizer\n",
    "from sklearn.naive_bayes import MultinomialNB\n",
    "from sklearn.model_selection import train_test_split \n",
    "from sklearn.metrics import confusion_matrix\n",
    "\n",
    "pd.__version__"
   ]
  },
  {
   "cell_type": "code",
   "execution_count": 14,
   "metadata": {},
   "outputs": [],
   "source": [
    "train_1 = pd.read_csv('TrainDataset1.csv')\n",
    "train_2 = pd.read_csv('TrainDataset2.csv')\n",
    "train_3 = pd.read_csv('TrainDataset3.txt', sep=\"\\t\", header=None)\n",
    "\n",
    "new_set = pd.read_csv('TestDataset.csv')\n",
    "\n",
    "train_2.columns = ['type', 'text']\n",
    "train_3.columns = ['type', 'text']\n",
    "new_set.columns = ['text']\n",
    "\n",
    "pieces = [train_1, train_2, train_3]\n",
    "train_set = pd.concat(pieces)\n",
    "\n",
    "x_data = train_set.text\n",
    "y_data = train_set.type\n",
    "\n",
    "#the default train_size is 0.25\n",
    "x_train, x_test, y_train, y_test = train_test_split(x_data, y_data)\n",
    "\n",
    "cv = CountVectorizer()\n",
    "#Learn the vocabulary dictionary and return term-document matrix.\n",
    "counts = cv.fit_transform(x_train.values)"
   ]
  },
  {
   "cell_type": "code",
   "execution_count": 15,
   "metadata": {},
   "outputs": [
    {
     "name": "stdout",
     "output_type": "stream",
     "text": [
      "True values\n",
      "['ham' 'ham' 'ham' ... 'ham' 'ham' 'ham']\n",
      "Predictions\n",
      "['spam' 'ham' 'ham' ... 'ham' 'ham' 'ham']\n",
      "\n",
      "Confusion matrix\n",
      "[[3358   15]\n",
      " [  11  513]]\n"
     ]
    }
   ],
   "source": [
    "classifier = MultinomialNB()\n",
    "targets = y_train.values\n",
    "classifier.fit(counts, targets)\n",
    "\n",
    "test_count = cv.transform(x_test.values)\n",
    "y_predictions = classifier.predict(test_count)\n",
    "\n",
    "print('True values')\n",
    "print(y_test.values)\n",
    "print('Predictions')\n",
    "print(predictions)\n",
    "\n",
    "print('\\nConfusion matrix')\n",
    "my_confusion_matrix = confusion_matrix(y_test.values, y_predictions)\n",
    "print(my_confusion_matrix)"
   ]
  },
  {
   "cell_type": "code",
   "execution_count": null,
   "metadata": {},
   "outputs": [],
   "source": []
  }
 ],
 "metadata": {
  "kernelspec": {
   "display_name": "Python 3",
   "language": "python",
   "name": "python3"
  },
  "language_info": {
   "codemirror_mode": {
    "name": "ipython",
    "version": 3
   },
   "file_extension": ".py",
   "mimetype": "text/x-python",
   "name": "python",
   "nbconvert_exporter": "python",
   "pygments_lexer": "ipython3",
   "version": "3.5.2"
  }
 },
 "nbformat": 4,
 "nbformat_minor": 2
}
